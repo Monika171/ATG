{
  "nbformat": 4,
  "nbformat_minor": 0,
  "metadata": {
    "colab": {
      "name": "intro-to-pytorch(plus Gradient Descent and Linear Regression).ipynb",
      "provenance": [],
      "collapsed_sections": [],
      "include_colab_link": true
    },
    "kernelspec": {
      "display_name": "Python 3",
      "language": "python",
      "name": "python3"
    },
    "language_info": {
      "codemirror_mode": {
        "name": "ipython",
        "version": 3
      },
      "file_extension": ".py",
      "mimetype": "text/x-python",
      "name": "python",
      "nbconvert_exporter": "python",
      "pygments_lexer": "ipython3",
      "version": "3.7.6"
    }
  },
  "cells": [
    {
      "cell_type": "markdown",
      "metadata": {
        "id": "view-in-github",
        "colab_type": "text"
      },
      "source": [
        "<a href=\"https://colab.research.google.com/github/Monika171/ATG/blob/master/intro_to_pytorch(plus_Gradient_Descent_and_Linear_Regression).ipynb\" target=\"_parent\"><img src=\"https://colab.research.google.com/assets/colab-badge.svg\" alt=\"Open In Colab\"/></a>"
      ]
    },
    {
      "cell_type": "code",
      "metadata": {
        "id": "DWSvHq_3Qiq9"
      },
      "source": [
        "# Jovian Commit Essentials\n",
        "# Please retain and execute this cell without modifying the contents for `jovian.commit` to work\n",
        "!pip install jovian --upgrade -q\n",
        "import jovian\n",
        "jovian.utils.colab.set_colab_file_id('1sJfUmMfx-lt8o_uuG63BiapOV-hiBKE7')"
      ],
      "execution_count": 68,
      "outputs": []
    },
    {
      "cell_type": "markdown",
      "metadata": {
        "id": "DKoz3ihGk1zT"
      },
      "source": [
        "# Pytorch Basics: Tensors & Gradients"
      ]
    },
    {
      "cell_type": "code",
      "metadata": {
        "id": "brGin1-nkYOK"
      },
      "source": [
        "!pip install jovian --upgrade --quiet"
      ],
      "execution_count": 69,
      "outputs": []
    },
    {
      "cell_type": "code",
      "metadata": {
        "id": "17h3-lr2kYOK"
      },
      "source": [
        "import jovian"
      ],
      "execution_count": 70,
      "outputs": []
    },
    {
      "cell_type": "code",
      "metadata": {
        "colab": {
          "base_uri": "https://localhost:8080/",
          "height": 103
        },
        "id": "LtWTT4TAkrl_",
        "outputId": "b9d9454d-0c96-4d26-cf48-4090cdad374d"
      },
      "source": [
        "jovian.commit(project='pytorch-basics-dummy')"
      ],
      "execution_count": 71,
      "outputs": [
        {
          "output_type": "stream",
          "text": [
            "[jovian] Detected Colab notebook...\u001b[0m\n",
            "[jovian] Uploading colab notebook to Jovian...\u001b[0m\n",
            "[jovian] Capturing environment..\u001b[0m\n",
            "[jovian] Committed successfully! https://jovian.ai/monika171/pytorch-basics-dummy\u001b[0m\n"
          ],
          "name": "stdout"
        },
        {
          "output_type": "execute_result",
          "data": {
            "application/vnd.google.colaboratory.intrinsic+json": {
              "type": "string"
            },
            "text/plain": [
              "'https://jovian.ai/monika171/pytorch-basics-dummy'"
            ]
          },
          "metadata": {
            "tags": []
          },
          "execution_count": 71
        }
      ]
    },
    {
      "cell_type": "markdown",
      "metadata": {
        "id": "zZ5U7g6BksZA"
      },
      "source": [
        "import the torch module to get started."
      ]
    },
    {
      "cell_type": "code",
      "metadata": {
        "id": "HgeNr05ng0di"
      },
      "source": [
        "import torch"
      ],
      "execution_count": 72,
      "outputs": []
    },
    {
      "cell_type": "markdown",
      "metadata": {
        "id": "iYvD2JpHkuI7"
      },
      "source": [
        "# Tensors\n",
        "At its core, PyTorch is a library for processing tensors. A tensor is a number, vector, matrix, or any n-dimensional array. Let's create a tensor with a single number."
      ]
    },
    {
      "cell_type": "code",
      "metadata": {
        "colab": {
          "base_uri": "https://localhost:8080/"
        },
        "id": "ZajpyD9Mg1zw",
        "outputId": "e76f6c92-bd72-47e7-ac23-55419b574230"
      },
      "source": [
        "# Number\n",
        "t1 = torch.tensor(4.)\n",
        "t1"
      ],
      "execution_count": 73,
      "outputs": [
        {
          "output_type": "execute_result",
          "data": {
            "text/plain": [
              "tensor(4.)"
            ]
          },
          "metadata": {
            "tags": []
          },
          "execution_count": 73
        }
      ]
    },
    {
      "cell_type": "code",
      "metadata": {
        "colab": {
          "base_uri": "https://localhost:8080/"
        },
        "id": "wFxAgKmrg2Xw",
        "outputId": "1bc61a8b-ad5b-4e56-cac7-096a6f0300f9"
      },
      "source": [
        "t1.dtype"
      ],
      "execution_count": 74,
      "outputs": [
        {
          "output_type": "execute_result",
          "data": {
            "text/plain": [
              "torch.float32"
            ]
          },
          "metadata": {
            "tags": []
          },
          "execution_count": 74
        }
      ]
    },
    {
      "cell_type": "code",
      "metadata": {
        "colab": {
          "base_uri": "https://localhost:8080/"
        },
        "id": "3JOcvB5tg2hS",
        "outputId": "294c32b7-8624-4d29-d31b-5820eb3499de"
      },
      "source": [
        "# Vector\n",
        "t2 = torch.tensor([1., 2,3,4])\n",
        "t2"
      ],
      "execution_count": 75,
      "outputs": [
        {
          "output_type": "execute_result",
          "data": {
            "text/plain": [
              "tensor([1., 2., 3., 4.])"
            ]
          },
          "metadata": {
            "tags": []
          },
          "execution_count": 75
        }
      ]
    },
    {
      "cell_type": "code",
      "metadata": {
        "colab": {
          "base_uri": "https://localhost:8080/"
        },
        "id": "Byio1bpel8Fb",
        "outputId": "33be626a-2da7-4d69-9d56-b41e7252c616"
      },
      "source": [
        "t2.dtype"
      ],
      "execution_count": 76,
      "outputs": [
        {
          "output_type": "execute_result",
          "data": {
            "text/plain": [
              "torch.float32"
            ]
          },
          "metadata": {
            "tags": []
          },
          "execution_count": 76
        }
      ]
    },
    {
      "cell_type": "code",
      "metadata": {
        "colab": {
          "base_uri": "https://localhost:8080/"
        },
        "id": "D91puJAnhNm4",
        "outputId": "d40e3e63-345b-41c9-a0f8-4bed0ed32ee3"
      },
      "source": [
        "# Matrix\n",
        "t3 = torch.tensor([[5.,6],\n",
        "                   [7,8],\n",
        "                   [9,10]])\n",
        "t3"
      ],
      "execution_count": 77,
      "outputs": [
        {
          "output_type": "execute_result",
          "data": {
            "text/plain": [
              "tensor([[ 5.,  6.],\n",
              "        [ 7.,  8.],\n",
              "        [ 9., 10.]])"
            ]
          },
          "metadata": {
            "tags": []
          },
          "execution_count": 77
        }
      ]
    },
    {
      "cell_type": "code",
      "metadata": {
        "colab": {
          "base_uri": "https://localhost:8080/"
        },
        "id": "UJFuY4nThNu2",
        "outputId": "04984d6b-b3e2-4dd3-b65b-09041a879d25"
      },
      "source": [
        "# 3-dimentional array\n",
        "t4 = torch.tensor([\n",
        "                   [[11,12,13], [13,14,15]],\n",
        "                   [[15,16,17],[17,18,19.]]\n",
        "])\n",
        "t4"
      ],
      "execution_count": 78,
      "outputs": [
        {
          "output_type": "execute_result",
          "data": {
            "text/plain": [
              "tensor([[[11., 12., 13.],\n",
              "         [13., 14., 15.]],\n",
              "\n",
              "        [[15., 16., 17.],\n",
              "         [17., 18., 19.]]])"
            ]
          },
          "metadata": {
            "tags": []
          },
          "execution_count": 78
        }
      ]
    },
    {
      "cell_type": "code",
      "metadata": {
        "colab": {
          "base_uri": "https://localhost:8080/"
        },
        "id": "r3-xBrKZhNyK",
        "outputId": "4c63e9fa-4d23-44cd-9c15-46e931e41961"
      },
      "source": [
        "print(t1)\n",
        "t1.shape"
      ],
      "execution_count": 79,
      "outputs": [
        {
          "output_type": "stream",
          "text": [
            "tensor(4.)\n"
          ],
          "name": "stdout"
        },
        {
          "output_type": "execute_result",
          "data": {
            "text/plain": [
              "torch.Size([])"
            ]
          },
          "metadata": {
            "tags": []
          },
          "execution_count": 79
        }
      ]
    },
    {
      "cell_type": "code",
      "metadata": {
        "colab": {
          "base_uri": "https://localhost:8080/"
        },
        "id": "tRzYU86ehN1P",
        "outputId": "db33c7f7-80f7-4aeb-83f7-f92f240e02a8"
      },
      "source": [
        "print(t2)\n",
        "t2.shape"
      ],
      "execution_count": 80,
      "outputs": [
        {
          "output_type": "stream",
          "text": [
            "tensor([1., 2., 3., 4.])\n"
          ],
          "name": "stdout"
        },
        {
          "output_type": "execute_result",
          "data": {
            "text/plain": [
              "torch.Size([4])"
            ]
          },
          "metadata": {
            "tags": []
          },
          "execution_count": 80
        }
      ]
    },
    {
      "cell_type": "code",
      "metadata": {
        "colab": {
          "base_uri": "https://localhost:8080/"
        },
        "id": "AUkOhkiLhN4e",
        "outputId": "733e4c45-43a3-4678-dc4a-fd9e7d93d61f"
      },
      "source": [
        "print(t3)\n",
        "t3.shape"
      ],
      "execution_count": 81,
      "outputs": [
        {
          "output_type": "stream",
          "text": [
            "tensor([[ 5.,  6.],\n",
            "        [ 7.,  8.],\n",
            "        [ 9., 10.]])\n"
          ],
          "name": "stdout"
        },
        {
          "output_type": "execute_result",
          "data": {
            "text/plain": [
              "torch.Size([3, 2])"
            ]
          },
          "metadata": {
            "tags": []
          },
          "execution_count": 81
        }
      ]
    },
    {
      "cell_type": "code",
      "metadata": {
        "colab": {
          "base_uri": "https://localhost:8080/"
        },
        "id": "LOeVRBgDhN7l",
        "outputId": "ac23da11-ff68-48da-80c5-5c8de954e41b"
      },
      "source": [
        "print(t4)\n",
        "t4.shape"
      ],
      "execution_count": 82,
      "outputs": [
        {
          "output_type": "stream",
          "text": [
            "tensor([[[11., 12., 13.],\n",
            "         [13., 14., 15.]],\n",
            "\n",
            "        [[15., 16., 17.],\n",
            "         [17., 18., 19.]]])\n"
          ],
          "name": "stdout"
        },
        {
          "output_type": "execute_result",
          "data": {
            "text/plain": [
              "torch.Size([2, 2, 3])"
            ]
          },
          "metadata": {
            "tags": []
          },
          "execution_count": 82
        }
      ]
    },
    {
      "cell_type": "code",
      "metadata": {
        "id": "ldRZ-NbohOAK"
      },
      "source": [
        "# Note that it's not possible to create tensors with an improper shape.\n",
        "# Matrix\n",
        "# t5 = torch.tensor([[5.,6,11],\n",
        "#                    [7,8],\n",
        "#                    [9,10]])\n",
        "# t5"
      ],
      "execution_count": 83,
      "outputs": []
    },
    {
      "cell_type": "markdown",
      "metadata": {
        "id": "i1EkRXzRpVkW"
      },
      "source": [
        "A ValueError is thrown because the lengths of the rows [5., 6, 11] and [7, 8] don't match.\n",
        "\n"
      ]
    },
    {
      "cell_type": "markdown",
      "metadata": {
        "id": "zOywVQz_plpa"
      },
      "source": [
        "## Tensor operations and gradients\n",
        "\n",
        "We can combine tensors with the usual arithmetic operations. Let's look at an example:"
      ]
    },
    {
      "cell_type": "code",
      "metadata": {
        "colab": {
          "base_uri": "https://localhost:8080/"
        },
        "id": "v3jy4ApMhODj",
        "outputId": "d6bef135-bf8e-4d0f-f3cf-90a42a16e732"
      },
      "source": [
        "# Create tensors\n",
        "\n",
        "x = torch.tensor(3.)\n",
        "w = torch.tensor(4., requires_grad = True)\n",
        "b = torch.tensor(5., requires_grad=True)\n",
        "x, w, b"
      ],
      "execution_count": 84,
      "outputs": [
        {
          "output_type": "execute_result",
          "data": {
            "text/plain": [
              "(tensor(3.), tensor(4., requires_grad=True), tensor(5., requires_grad=True))"
            ]
          },
          "metadata": {
            "tags": []
          },
          "execution_count": 84
        }
      ]
    },
    {
      "cell_type": "markdown",
      "metadata": {
        "id": "Jq4wtNh-qe43"
      },
      "source": [
        "We've created three tensors: x, w, and b, all numbers. w and b have an additional parameter requires_grad set to True. <br>\n",
        "Let's create a new tensor y by combining these tensors."
      ]
    },
    {
      "cell_type": "code",
      "metadata": {
        "id": "pKT5_yxghOGH",
        "colab": {
          "base_uri": "https://localhost:8080/"
        },
        "outputId": "242e5a88-a5d2-4583-b9ec-7ee6d00ebd7f"
      },
      "source": [
        "y = w * x + b\n",
        "y\n",
        "\n",
        "\n",
        "# dy/dw\n",
        "x + 0\n",
        "# dy/dx ####\n",
        "w + 0\n",
        "# dy/db\n",
        "1\n",
        "\n"
      ],
      "execution_count": 85,
      "outputs": [
        {
          "output_type": "execute_result",
          "data": {
            "text/plain": [
              "1"
            ]
          },
          "metadata": {
            "tags": []
          },
          "execution_count": 85
        }
      ]
    },
    {
      "cell_type": "markdown",
      "metadata": {
        "id": "U_U4CEozzsMK"
      },
      "source": [
        "As expected, y is a tensor with the value 3 * 4 + 5 = 17. What makes PyTorch unique is that we can automatically compute the derivative of y w.r.t. the tensors that have requires_grad set to True i.e. w and b. This feature of PyTorch is called autograd (automatic gradients).\n",
        "<br>\n",
        "\n",
        "To compute the derivatives, we can invoke the .backward method on our result y."
      ]
    },
    {
      "cell_type": "code",
      "metadata": {
        "id": "Ibwi2NlrhOJU"
      },
      "source": [
        "#  Compute derivatives\n",
        "y.backward()"
      ],
      "execution_count": 86,
      "outputs": []
    },
    {
      "cell_type": "markdown",
      "metadata": {
        "id": "qhy90ilW2XXT"
      },
      "source": [
        "The derivatives of y w.r.t the input tensors are stored in the .grad property of the respective tensors."
      ]
    },
    {
      "cell_type": "code",
      "metadata": {
        "id": "DQl_hW4DhOOj",
        "colab": {
          "base_uri": "https://localhost:8080/"
        },
        "outputId": "c7a150c7-066e-42b8-a97a-4190a59c15a6"
      },
      "source": [
        "# Display gradients\n",
        "print('dy/dx:', x.grad)\n",
        "print('dy/dw:', w.grad)\n",
        "print('dy/db', b.grad)"
      ],
      "execution_count": 87,
      "outputs": [
        {
          "output_type": "stream",
          "text": [
            "dy/dx: None\n",
            "dy/dw: tensor(3.)\n",
            "dy/db tensor(1.)\n"
          ],
          "name": "stdout"
        }
      ]
    },
    {
      "cell_type": "markdown",
      "metadata": {
        "id": "mVC6uj0C3H2z"
      },
      "source": [
        "As expected, dy/dw has the same value as x, i.e., 3, and dy/db has the value 1. Note that x.grad is None because x doesn't have requires_grad set to True.\n",
        "<br>\n",
        "The \"grad\" in w.grad is short for gradient, which is another term for derivative. The term gradient is primarily used while dealing with vectors and matrices.\n",
        "<br>\n",
        "WE ARE NOT INTERESTED IN FUTURE OUTPUTS RELATED TO x , BUT WE ARE INTERESTED IN FUTURE OUTPUTS RELATED TO w and b. WOULD NOT WANT TO DO USELESS OPERATIONS"
      ]
    },
    {
      "cell_type": "markdown",
      "metadata": {
        "id": "uXSeroqp3MaN"
      },
      "source": [
        "## Tensor functions\n",
        "Apart from arithmetic operations, the torch module also contains many functions for creating and manipulating tensors. Let's look at some examples."
      ]
    },
    {
      "cell_type": "code",
      "metadata": {
        "id": "Cxg-KxSxhOUC",
        "colab": {
          "base_uri": "https://localhost:8080/"
        },
        "outputId": "15680931-ca5b-4a01-df57-530704107aaf"
      },
      "source": [
        "# Create a tensor with a fixed value for every element\n",
        "t6 = torch.full((3,2), 42)\n",
        "t6"
      ],
      "execution_count": 88,
      "outputs": [
        {
          "output_type": "execute_result",
          "data": {
            "text/plain": [
              "tensor([[42, 42],\n",
              "        [42, 42],\n",
              "        [42, 42]])"
            ]
          },
          "metadata": {
            "tags": []
          },
          "execution_count": 88
        }
      ]
    },
    {
      "cell_type": "code",
      "metadata": {
        "colab": {
          "base_uri": "https://localhost:8080/"
        },
        "id": "eYyn4t7j4gXX",
        "outputId": "b0fd8a66-f7db-4ab6-c363-578d7d78e84d"
      },
      "source": [
        "t3, t6"
      ],
      "execution_count": 89,
      "outputs": [
        {
          "output_type": "execute_result",
          "data": {
            "text/plain": [
              "(tensor([[ 5.,  6.],\n",
              "         [ 7.,  8.],\n",
              "         [ 9., 10.]]), tensor([[42, 42],\n",
              "         [42, 42],\n",
              "         [42, 42]]))"
            ]
          },
          "metadata": {
            "tags": []
          },
          "execution_count": 89
        }
      ]
    },
    {
      "cell_type": "code",
      "metadata": {
        "id": "Da0JThK5hOXo",
        "colab": {
          "base_uri": "https://localhost:8080/"
        },
        "outputId": "87e535d4-3f58-415a-ca84-27f97bf9ba7b"
      },
      "source": [
        "# Concatenate two tensors with compatible shapes\n",
        "t7 = torch.cat((t3, t6))\n",
        "t7"
      ],
      "execution_count": 90,
      "outputs": [
        {
          "output_type": "execute_result",
          "data": {
            "text/plain": [
              "tensor([[ 5.,  6.],\n",
              "        [ 7.,  8.],\n",
              "        [ 9., 10.],\n",
              "        [42., 42.],\n",
              "        [42., 42.],\n",
              "        [42., 42.]])"
            ]
          },
          "metadata": {
            "tags": []
          },
          "execution_count": 90
        }
      ]
    },
    {
      "cell_type": "code",
      "metadata": {
        "id": "u4oS25-ohOcH",
        "colab": {
          "base_uri": "https://localhost:8080/"
        },
        "outputId": "13de5d40-a11c-4010-e88a-72e0618e0ec0"
      },
      "source": [
        "# Compute the sin of each element\n",
        "t8 = torch.sin(t7)\n",
        "t8"
      ],
      "execution_count": 91,
      "outputs": [
        {
          "output_type": "execute_result",
          "data": {
            "text/plain": [
              "tensor([[-0.9589, -0.2794],\n",
              "        [ 0.6570,  0.9894],\n",
              "        [ 0.4121, -0.5440],\n",
              "        [-0.9165, -0.9165],\n",
              "        [-0.9165, -0.9165],\n",
              "        [-0.9165, -0.9165]])"
            ]
          },
          "metadata": {
            "tags": []
          },
          "execution_count": 91
        }
      ]
    },
    {
      "cell_type": "code",
      "metadata": {
        "colab": {
          "base_uri": "https://localhost:8080/"
        },
        "id": "8Ny5SQWA5CTq",
        "outputId": "9000e85c-19df-43e7-ed86-9f04e1d18e31"
      },
      "source": [
        "t8.shape"
      ],
      "execution_count": 92,
      "outputs": [
        {
          "output_type": "execute_result",
          "data": {
            "text/plain": [
              "torch.Size([6, 2])"
            ]
          },
          "metadata": {
            "tags": []
          },
          "execution_count": 92
        }
      ]
    },
    {
      "cell_type": "code",
      "metadata": {
        "id": "m7eh7M6ihOfB",
        "colab": {
          "base_uri": "https://localhost:8080/"
        },
        "outputId": "1a421d4e-61fb-4433-d633-b25eee36faa3"
      },
      "source": [
        "# Change the shape of a tensor\n",
        "t9 = t8.reshape(3,2,2)\n",
        "t9"
      ],
      "execution_count": 93,
      "outputs": [
        {
          "output_type": "execute_result",
          "data": {
            "text/plain": [
              "tensor([[[-0.9589, -0.2794],\n",
              "         [ 0.6570,  0.9894]],\n",
              "\n",
              "        [[ 0.4121, -0.5440],\n",
              "         [-0.9165, -0.9165]],\n",
              "\n",
              "        [[-0.9165, -0.9165],\n",
              "         [-0.9165, -0.9165]]])"
            ]
          },
          "metadata": {
            "tags": []
          },
          "execution_count": 93
        }
      ]
    },
    {
      "cell_type": "markdown",
      "metadata": {
        "id": "WgPEtipg5thw"
      },
      "source": [
        "## Interoperability with Numpy"
      ]
    },
    {
      "cell_type": "code",
      "metadata": {
        "id": "699dNXF1hOiU",
        "colab": {
          "base_uri": "https://localhost:8080/"
        },
        "outputId": "b37d5e99-9e1c-4182-af73-72c3de32d93e"
      },
      "source": [
        "import numpy as np\n",
        "\n",
        "x = np.array([[1,2],[3,4.]])\n",
        "x"
      ],
      "execution_count": 94,
      "outputs": [
        {
          "output_type": "execute_result",
          "data": {
            "text/plain": [
              "array([[1., 2.],\n",
              "       [3., 4.]])"
            ]
          },
          "metadata": {
            "tags": []
          },
          "execution_count": 94
        }
      ]
    },
    {
      "cell_type": "code",
      "metadata": {
        "id": "E7BUWZLThOqA",
        "colab": {
          "base_uri": "https://localhost:8080/"
        },
        "outputId": "b6ba16b2-ef15-4c9f-b3b4-609485717a5c"
      },
      "source": [
        "x.shape"
      ],
      "execution_count": 95,
      "outputs": [
        {
          "output_type": "execute_result",
          "data": {
            "text/plain": [
              "(2, 2)"
            ]
          },
          "metadata": {
            "tags": []
          },
          "execution_count": 95
        }
      ]
    },
    {
      "cell_type": "markdown",
      "metadata": {
        "id": "YVutD6Ig6Pwa"
      },
      "source": [
        "We can convert a Numpy array to a PyTorch tensor using torch.from_numpy."
      ]
    },
    {
      "cell_type": "code",
      "metadata": {
        "id": "W7wEkxgXhOs1",
        "colab": {
          "base_uri": "https://localhost:8080/"
        },
        "outputId": "dd9c0649-3b85-4c37-9f5f-ac8a6e09c1de"
      },
      "source": [
        "# Convert the numpy array to a torch tensor\n",
        "y = torch.from_numpy(x)\n",
        "y"
      ],
      "execution_count": 96,
      "outputs": [
        {
          "output_type": "execute_result",
          "data": {
            "text/plain": [
              "tensor([[1., 2.],\n",
              "        [3., 4.]], dtype=torch.float64)"
            ]
          },
          "metadata": {
            "tags": []
          },
          "execution_count": 96
        }
      ]
    },
    {
      "cell_type": "markdown",
      "metadata": {
        "id": "k0FFl_fQ6f1M"
      },
      "source": [
        "Let's verify that the numpy array and torch tensor have similar data types."
      ]
    },
    {
      "cell_type": "code",
      "metadata": {
        "id": "keH_sMQ4hOv3",
        "colab": {
          "base_uri": "https://localhost:8080/"
        },
        "outputId": "b526c1df-a190-4c58-dcd1-ce86c8893721"
      },
      "source": [
        "x.dtype, y.dtype"
      ],
      "execution_count": 97,
      "outputs": [
        {
          "output_type": "execute_result",
          "data": {
            "text/plain": [
              "(dtype('float64'), torch.float64)"
            ]
          },
          "metadata": {
            "tags": []
          },
          "execution_count": 97
        }
      ]
    },
    {
      "cell_type": "markdown",
      "metadata": {
        "id": "9It-tJ106oZI"
      },
      "source": [
        "We can convert back a PyTorch tensor to a Numpy array using the .numpy method of a tensor."
      ]
    },
    {
      "cell_type": "code",
      "metadata": {
        "id": "dLT4Od2-hOzG",
        "colab": {
          "base_uri": "https://localhost:8080/"
        },
        "outputId": "67b355b0-112d-49e7-815e-5b26a2a514be"
      },
      "source": [
        "# Convert back a torch tensor to a numpy array\n",
        "z = y.numpy()\n",
        "z"
      ],
      "execution_count": 98,
      "outputs": [
        {
          "output_type": "execute_result",
          "data": {
            "text/plain": [
              "array([[1., 2.],\n",
              "       [3., 4.]])"
            ]
          },
          "metadata": {
            "tags": []
          },
          "execution_count": 98
        }
      ]
    },
    {
      "cell_type": "markdown",
      "metadata": {
        "id": "ONV1H6XlCvT2"
      },
      "source": [
        "## Introduction to Linear Regression\n",
        "\n",
        "create a model that predicts crop yields for apples and oranges (target variables) by looking at the average temperature, rainfall, and humidity (input variables or features) in a region. Here's the training data:"
      ]
    },
    {
      "cell_type": "markdown",
      "metadata": {
        "id": "wNHMMQ16D-EJ"
      },
      "source": [
        "In a linear regression model, each target variable is estimated to be a weighted sum of the input variables, offset by some constant, known as a bias :\n",
        "\n",
        "yield_apple = w11 * temp + w12 * rainfall + w13 * humidity + b1\n",
        "\n",
        "yield_orange = w21 * temp + w22 * rainfall + w23 * humidity + b2\n"
      ]
    },
    {
      "cell_type": "markdown",
      "metadata": {
        "id": "uENgpuYwFPgv"
      },
      "source": [
        "The learning part of linear regression is to figure out a set of weights w11, w12,... w23, b1 & b2 using the training data, to make accurate predictions for new data. The learned weights will be used to predict the yields for apples and oranges in a new region using the average temperature, rainfall, and humidity for that region.\n",
        "\n",
        "We'll train our model by adjusting the weights slightly many times to make better predictions, using an optimization technique called **gradient descent**. "
      ]
    },
    {
      "cell_type": "markdown",
      "metadata": {
        "id": "VnK4deaKFYZI"
      },
      "source": [
        "### Training data\n",
        "We can represent the training data using two matrices:\n",
        "`inputs` and `targets`, \n",
        "\n",
        "each with one row per observation, and one column per variable."
      ]
    },
    {
      "cell_type": "code",
      "metadata": {
        "id": "u1c9_St6Csqn"
      },
      "source": [
        "# Input (temp, rainfall, humidity)\n",
        "inputs = np.array ([[73, 67, 43],\n",
        "                    [91, 88, 64],\n",
        "                    [87, 134, 58],\n",
        "                    [102, 43, 37],\n",
        "                    [69, 96, 70]], dtype='float32')"
      ],
      "execution_count": 99,
      "outputs": []
    },
    {
      "cell_type": "code",
      "metadata": {
        "id": "-gl44FpxCtD1"
      },
      "source": [
        "# Targets (apples, oranges)\n",
        "targets = np.array([[56, 70],\n",
        "                    [81, 101],\n",
        "                    [119, 133],\n",
        "                    [22, 37],\n",
        "                    [103, 119]], dtype = 'float32')"
      ],
      "execution_count": 100,
      "outputs": []
    },
    {
      "cell_type": "code",
      "metadata": {
        "colab": {
          "base_uri": "https://localhost:8080/"
        },
        "id": "A7LVI4-qCtUb",
        "outputId": "d9295644-1795-4b36-81b3-cce5cd88d08c"
      },
      "source": [
        "# Convert inputs and targets to tensors\n",
        "inputs = torch.from_numpy(inputs)\n",
        "targets = torch.from_numpy(targets)\n",
        "print(inputs)\n",
        "print(targets)"
      ],
      "execution_count": 101,
      "outputs": [
        {
          "output_type": "stream",
          "text": [
            "tensor([[ 73.,  67.,  43.],\n",
            "        [ 91.,  88.,  64.],\n",
            "        [ 87., 134.,  58.],\n",
            "        [102.,  43.,  37.],\n",
            "        [ 69.,  96.,  70.]])\n",
            "tensor([[ 56.,  70.],\n",
            "        [ 81., 101.],\n",
            "        [119., 133.],\n",
            "        [ 22.,  37.],\n",
            "        [103., 119.]])\n"
          ],
          "name": "stdout"
        }
      ]
    },
    {
      "cell_type": "markdown",
      "metadata": {
        "id": "lyoCUwvFIwyC"
      },
      "source": [
        "### Linear regression model from scratch\n",
        "\n",
        "The weights and biases (w11, w12, ... w23, b1 & b2) can also be represented as matrices, initialized as random values. The first row of w and the first element of b are used to predict the first target variable, i.e., yield of apples, and similarly, the second for oranges."
      ]
    },
    {
      "cell_type": "code",
      "metadata": {
        "colab": {
          "base_uri": "https://localhost:8080/"
        },
        "id": "pt-cnZYnCtcs",
        "outputId": "17c013ae-e74c-4109-aeb6-2214e379d10d"
      },
      "source": [
        "# Weights and biases\n",
        "w = torch.randn(2,3, requires_grad = True)\n",
        "b = torch.randn(2, requires_grad = True)\n",
        "print(w)\n",
        "print(b)"
      ],
      "execution_count": 102,
      "outputs": [
        {
          "output_type": "stream",
          "text": [
            "tensor([[-1.3838,  0.5437,  0.6406],\n",
            "        [ 0.0147, -0.4857, -2.4748]], requires_grad=True)\n",
            "tensor([-0.2908,  0.8999], requires_grad=True)\n"
          ],
          "name": "stdout"
        }
      ]
    },
    {
      "cell_type": "markdown",
      "metadata": {
        "id": "KWzdQLd6P7H0"
      },
      "source": [
        "torch.randn creates a tensor with the given shape, with elements picked randomly from a normal distribution with mean 0 and standard deviation 1.\n",
        "\n",
        "**Our model is simply a function that performs a matrix multiplication of the `inputs` and the weights `w` (transposed) and adds the bias `b` (replicated for each observation).**"
      ]
    },
    {
      "cell_type": "code",
      "metadata": {
        "id": "TdChxTSHCttg"
      },
      "source": [
        "# We can define the model as follows:\n",
        "def model(x):\n",
        "  return x @ w.t() + b"
      ],
      "execution_count": 103,
      "outputs": []
    },
    {
      "cell_type": "markdown",
      "metadata": {
        "id": "VPlAL7LySQ8N"
      },
      "source": [
        "`@` represents matrix multiplication in PyTorch, and the `.t` method returns the transpose of tensor.\n",
        "\n",
        "The matrix obtained by passing the input data into model is a set od predictions for the target variables."
      ]
    },
    {
      "cell_type": "code",
      "metadata": {
        "colab": {
          "base_uri": "https://localhost:8080/"
        },
        "id": "xsL42e4CCtv9",
        "outputId": "46d5d2f2-c5f1-4fce-839f-60ee274851a4"
      },
      "source": [
        "# Generate predictions\n",
        "preds = model(inputs)\n",
        "print(preds)"
      ],
      "execution_count": 104,
      "outputs": [
        {
          "output_type": "stream",
          "text": [
            "tensor([[ -37.3304, -136.9841],\n",
            "        [ -37.3675, -198.8896],\n",
            "        [ -10.6637, -206.4412],\n",
            "        [ -94.3531, -110.0525],\n",
            "        [   1.2688, -217.9473]], grad_fn=<AddBackward0>)\n"
          ],
          "name": "stdout"
        }
      ]
    },
    {
      "cell_type": "markdown",
      "metadata": {
        "id": "DBoYskXqTIsj"
      },
      "source": [
        "Lets compare the predictions of our model with the actual targets."
      ]
    },
    {
      "cell_type": "code",
      "metadata": {
        "colab": {
          "base_uri": "https://localhost:8080/"
        },
        "id": "ORvQoB0ZCtzA",
        "outputId": "59eb4ef6-7af8-4bd9-f507-eddce1c7b73d"
      },
      "source": [
        "# Compara with targets\n",
        "print(targets)"
      ],
      "execution_count": 105,
      "outputs": [
        {
          "output_type": "stream",
          "text": [
            "tensor([[ 56.,  70.],\n",
            "        [ 81., 101.],\n",
            "        [119., 133.],\n",
            "        [ 22.,  37.],\n",
            "        [103., 119.]])\n"
          ],
          "name": "stdout"
        }
      ]
    },
    {
      "cell_type": "markdown",
      "metadata": {
        "id": "f0wGFeS7TjLr"
      },
      "source": [
        "We can see a big difference between our model's predictions and the actual targets because we've initialized our model with random weights and biases. Obviously, we can't expect a randomly initialized model to just work."
      ]
    },
    {
      "cell_type": "markdown",
      "metadata": {
        "id": "hZtNq7--TsnD"
      },
      "source": [
        "### Loss function\n",
        "Before we improve our model, we need a way to evaluate how well our model is performing. We can compare the model's predictions with the actual targets using the following method:\n",
        "\n",
        "* Calculate the difference between the two matrices(preds and targets).\n",
        "* Square all the elements of the difference matrix to remove negative values.\n",
        "* Calculate the average of the elements in the resulting matrix.\n",
        "\n",
        "\n",
        "The result is a single number, known as mean squared error(MSE)."
      ]
    },
    {
      "cell_type": "code",
      "metadata": {
        "id": "E2BbBcNUCtp2"
      },
      "source": [
        "# MSE loss\n",
        "def mse(t1, t2):\n",
        "  diff = t1 - t2\n",
        "  return torch.sum(diff * diff)/diff.numel()"
      ],
      "execution_count": 106,
      "outputs": []
    },
    {
      "cell_type": "markdown",
      "metadata": {
        "id": "jn62BI2vCtm_"
      },
      "source": [
        "`torch.sum` returns the sum of all the elements in a tensor.\n",
        "\n",
        "`.numel` method of a tensor returns the number of elements in a tensor.\n",
        "\n",
        "\n",
        "Let's compute the mean squared error for the current predictions of our model."
      ]
    },
    {
      "cell_type": "code",
      "metadata": {
        "colab": {
          "base_uri": "https://localhost:8080/"
        },
        "id": "TyM81VloCtk2",
        "outputId": "6d99e223-6eb8-44c9-b79a-b36e288498df"
      },
      "source": [
        "# Compute loss\n",
        "loss = mse(preds, targets)\n",
        "print(loss)"
      ],
      "execution_count": 107,
      "outputs": [
        {
          "output_type": "stream",
          "text": [
            "tensor(44657.5781, grad_fn=<DivBackward0>)\n"
          ],
          "name": "stdout"
        }
      ]
    },
    {
      "cell_type": "markdown",
      "metadata": {
        "id": "lKAMCG-RVsnB"
      },
      "source": [
        "Here is how we can interpret the result: \n",
        "\n",
        "On average, each element in the prediction differs from the actual target by the square root of the loss.\n",
        "\n",
        "And that's pretty bad, considering the numbers we are trying to predict are themslves in the range 50-200.\n",
        "\n",
        "The result is called the loss because it indicates how bad the model is at predicting the target variables.\n",
        "\n",
        "It represents information loss in the model: the lower the loss, the better the model."
      ]
    },
    {
      "cell_type": "markdown",
      "metadata": {
        "id": "oiOUTaK6W6NO"
      },
      "source": [
        "### Compute gradients\n",
        "\n",
        "With PyTorch, we can automatically compute the gradient or derivative of the loss w.r.t the weights and biases because they have `reqires_grad` set to `True`.\n",
        "\n"
      ]
    },
    {
      "cell_type": "code",
      "metadata": {
        "id": "hyuCZUtLCtjE"
      },
      "source": [
        "# Compute gradients\n",
        "loss.backward()"
      ],
      "execution_count": 108,
      "outputs": []
    },
    {
      "cell_type": "markdown",
      "metadata": {
        "id": "LQ3u8P-GXuSr"
      },
      "source": [
        "The gradients are stored in the .grad property of the respective tensors.\n",
        "\n",
        "Note that the derivative of the loss w.r.t the weigths, matrix is itself a matrix with the same dimensions."
      ]
    },
    {
      "cell_type": "code",
      "metadata": {
        "colab": {
          "base_uri": "https://localhost:8080/"
        },
        "id": "0gaPYyE2CtYa",
        "outputId": "1402faaf-c9db-4d80-ee3c-869939bf1e19"
      },
      "source": [
        "# Gradients for weights\n",
        "print(w)\n",
        "print(w.grad)"
      ],
      "execution_count": 109,
      "outputs": [
        {
          "output_type": "stream",
          "text": [
            "tensor([[-1.3838,  0.5437,  0.6406],\n",
            "        [ 0.0147, -0.4857, -2.4748]], requires_grad=True)\n",
            "tensor([[ -9550.5547,  -9762.7588,  -6107.0942],\n",
            "        [-22035.9785, -24882.7070, -15361.6172]])\n"
          ],
          "name": "stdout"
        }
      ]
    },
    {
      "cell_type": "markdown",
      "metadata": {
        "id": "X5dEs132Yqw-"
      },
      "source": [
        "### Adjust weights and biases to reduce the loss\n",
        "The loss is a quadratic function of our weights and biases, and our objective is to find the set of weights where the loss is the lowest. If we plot a graph of the loss w.r.t any individual weight or bias element, it will look like the figure shown below. An important insight from calculus is that the gradient indicates the rate of change of the loss, i.e., the loss function's slope w.r.t. the weights and biases.\n",
        "\n",
        "If a gradient element is positive:\n",
        "\n",
        "* increasing the weight element's value slightly will increase the loss\n",
        "* decreasing the weight element's value slightly will decrease the loss\n",
        "\n",
        "If a gradient element is negative:\n",
        "\n",
        "* increasing the weight element's value slightly will decrease the loss\n",
        "* decreasing the weight element's value slightly will increase the loss\n",
        "\n",
        "\n",
        "The increase or decrease in the loss by changing a weight element is proportional to the gradient of the loss w.r.t. that element. This observation forms the basis of the gradient descent optimization algorithm that we'll use to improve our model (by descending along the gradient)."
      ]
    },
    {
      "cell_type": "markdown",
      "metadata": {
        "id": "5i-0agf2ZXwJ"
      },
      "source": [
        "We can subtract from each weight element a small quantity proportional to the derivative of the loss w.r.t. that element to reduce the loss slightly."
      ]
    },
    {
      "cell_type": "code",
      "metadata": {
        "colab": {
          "base_uri": "https://localhost:8080/"
        },
        "id": "VI6Qu4ewCtHb",
        "outputId": "8c6df2b1-3323-4f06-e4d2-e979046b7e04"
      },
      "source": [
        "w\n",
        "w.grad"
      ],
      "execution_count": 110,
      "outputs": [
        {
          "output_type": "execute_result",
          "data": {
            "text/plain": [
              "tensor([[ -9550.5547,  -9762.7588,  -6107.0942],\n",
              "        [-22035.9785, -24882.7070, -15361.6172]])"
            ]
          },
          "metadata": {
            "tags": []
          },
          "execution_count": 110
        }
      ]
    },
    {
      "cell_type": "code",
      "metadata": {
        "id": "Ag9z3D3-Csx4"
      },
      "source": [
        "with torch.no_grad():\n",
        "  w -= w.grad * 1e-5\n",
        "  b -= b.grad * 1e-5"
      ],
      "execution_count": 111,
      "outputs": []
    },
    {
      "cell_type": "code",
      "metadata": {
        "id": "Mx-bwyhjCswC"
      },
      "source": [
        ""
      ],
      "execution_count": 111,
      "outputs": []
    },
    {
      "cell_type": "code",
      "metadata": {
        "id": "AbH0mHCjCsuq"
      },
      "source": [
        ""
      ],
      "execution_count": 111,
      "outputs": []
    },
    {
      "cell_type": "code",
      "metadata": {
        "id": "bllJlJ0thOaX"
      },
      "source": [
        ""
      ],
      "execution_count": 111,
      "outputs": []
    },
    {
      "cell_type": "code",
      "metadata": {
        "id": "Z5Hjgi3DhOSQ"
      },
      "source": [
        ""
      ],
      "execution_count": 111,
      "outputs": []
    },
    {
      "cell_type": "code",
      "metadata": {
        "id": "PHDRnil2hOMd"
      },
      "source": [
        ""
      ],
      "execution_count": 111,
      "outputs": []
    },
    {
      "cell_type": "code",
      "metadata": {
        "id": "wGkA4ek7hN_L",
        "colab": {
          "base_uri": "https://localhost:8080/",
          "height": 103
        },
        "outputId": "e48a876f-3694-4ea1-a59b-775befab7c84"
      },
      "source": [
        "jovian.commit(project='pytorch-basics-dummy')"
      ],
      "execution_count": 112,
      "outputs": [
        {
          "output_type": "stream",
          "text": [
            "[jovian] Detected Colab notebook...\u001b[0m\n",
            "[jovian] Uploading colab notebook to Jovian...\u001b[0m\n",
            "[jovian] Capturing environment..\u001b[0m\n",
            "[jovian] Committed successfully! https://jovian.ai/monika171/pytorch-basics-dummy\u001b[0m\n"
          ],
          "name": "stdout"
        },
        {
          "output_type": "execute_result",
          "data": {
            "application/vnd.google.colaboratory.intrinsic+json": {
              "type": "string"
            },
            "text/plain": [
              "'https://jovian.ai/monika171/pytorch-basics-dummy'"
            ]
          },
          "metadata": {
            "tags": []
          },
          "execution_count": 112
        }
      ]
    },
    {
      "cell_type": "code",
      "metadata": {
        "id": "S-B7tjUcadZ2"
      },
      "source": [
        ""
      ],
      "execution_count": 112,
      "outputs": []
    }
  ]
}